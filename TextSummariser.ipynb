{
  "nbformat": 4,
  "nbformat_minor": 0,
  "metadata": {
    "colab": {
      "provenance": [],
      "authorship_tag": "ABX9TyMgXUuxf1uTEp25fBkI8QYL",
      "include_colab_link": true
    },
    "kernelspec": {
      "name": "python3",
      "display_name": "Python 3"
    },
    "language_info": {
      "name": "python"
    }
  },
  "cells": [
    {
      "cell_type": "markdown",
      "metadata": {
        "id": "view-in-github",
        "colab_type": "text"
      },
      "source": [
        "<a href=\"https://colab.research.google.com/github/Shanmukh459/Text-summarization/blob/main/TextSummariser.ipynb\" target=\"_parent\"><img src=\"https://colab.research.google.com/assets/colab-badge.svg\" alt=\"Open In Colab\"/></a>"
      ]
    },
    {
      "cell_type": "code",
      "execution_count": null,
      "metadata": {
        "id": "P0UxgJFhPEBj"
      },
      "outputs": [],
      "source": [
        "import youtube_transcript_api\n",
        "from youtube_transcript_api import YouTubeTranscriptApi\n",
        "import nltk\n",
        "import re\n",
        "from nltk.corpus import stopwords\n",
        "import sklearn\n",
        "from sklearn.feature_extraction.text import TfidfVectorizer"
      ]
    },
    {
      "cell_type": "code",
      "source": [
        "link = \"https://www.youtube.com/watch?v=Y8Tko2YC5hA\"\n",
        "unique_id = link.split(\"=\")[-1]\n",
        "sub = YouTubeTranscriptApi.get_transcript(unique_id)\n",
        "subtitle = \" \".join([x['text'] for x in sub])"
      ],
      "metadata": {
        "id": "h7CfL05wPlZ8"
      },
      "execution_count": null,
      "outputs": []
    },
    {
      "cell_type": "markdown",
      "source": [
        "#Summarization with TF-IDF vectorization"
      ],
      "metadata": {
        "id": "5GoMBIy7QLL1"
      }
    },
    {
      "cell_type": "code",
      "source": [
        "from nltk.tokenize import sent_tokenize\n",
        "\n",
        "subtitle = subtitle.replace(\"n\", \"\")\n",
        "sentences = sent_tokenize(subtitle)"
      ],
      "metadata": {
        "id": "BLW2eo7jQUAo"
      },
      "execution_count": null,
      "outputs": []
    },
    {
      "cell_type": "code",
      "source": [
        "organized_sent = {k:v from v,k in enumerate(sentences)}"
      ],
      "metadata": {
        "id": "CV-a6rqgQqvM"
      },
      "execution_count": null,
      "outputs": []
    },
    {
      "cell_type": "code",
      "source": [
        "tfidf = TfidfVectorizer(min_df=2,\n",
        "                        strip_accents='unicode',\n",
        "                        max_features=None,\n",
        "                        lowercase=True,\n",
        "                        token_pattern=r'w{1,}',\n",
        "                        ngram_range=(1, 3),\n",
        "                        use_idf=1,\n",
        "                        smooth_idf=1,\n",
        "                        sublinear_tf=1,\n",
        "                        stop_words='english')"
      ],
      "metadata": {
        "id": "qMofmq5iQ05s"
      },
      "execution_count": null,
      "outputs": []
    }
  ]
}